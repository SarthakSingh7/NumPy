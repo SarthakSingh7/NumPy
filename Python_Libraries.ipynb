{
  "nbformat": 4,
  "nbformat_minor": 0,
  "metadata": {
    "colab": {
      "provenance": [],
      "collapsed_sections": [],
      "authorship_tag": "ABX9TyMhLPmY4dmCS2wbgPvAAH0Q",
      "include_colab_link": true
    },
    "kernelspec": {
      "name": "python3",
      "display_name": "Python 3"
    },
    "language_info": {
      "name": "python"
    }
  },
  "cells": [
    {
      "cell_type": "markdown",
      "metadata": {
        "id": "view-in-github",
        "colab_type": "text"
      },
      "source": [
        "<a href=\"https://colab.research.google.com/github/SarthakSingh7/NumPy/blob/main/Python_Libraries.ipynb\" target=\"_parent\"><img src=\"https://colab.research.google.com/assets/colab-badge.svg\" alt=\"Open In Colab\"/></a>"
      ]
    },
    {
      "cell_type": "markdown",
      "source": [
        "Video link: https://www.youtube.com/watch?v=SRFTJ94WREA\n"
      ],
      "metadata": {
        "id": "624R5N8wkyLY"
      }
    },
    {
      "cell_type": "markdown",
      "source": [
        "**What are python libraries?**\n",
        "\n",
        "Any Python library is a collection of functions and methods that allows us to perform many actions without writing complete code.\n",
        "\n",
        "Important libraries\n",
        "1. NumPy\n",
        "2. Pandas\n",
        "3. Matplotlib"
      ],
      "metadata": {
        "id": "shL2DVsVk6Qc"
      }
    },
    {
      "cell_type": "markdown",
      "source": [
        "![image.png](data:image/png;base64,iVBORw0KGgoAAAANSUhEUgAAAJYAAACWCAYAAAA8AXHiAAAUIUlEQVR4nO2dfXRU5Z3Hv787k0mC4YgKsu5WLaW0FbTJRM6xe+pKuvXAksywIMxoretLT30pKsUICYQXE16T8C5VLFtdbbWtN0GQmaCo55A93V1tF2cm2uBa6/Ftd9GFWqyBTCaZ+9s/MldCCMnMfZ47907mfg5/hbm/58nw4Xef+9zn+T2Ag4ODg4ODg4ODg4ODg4ODg4ODg4ODg4ODg4ODg4ODJMjqDuQCla2R6YqGVQBdRgoaQgu8+6zuk91xxBoGnxq7FsSrCJg58OfMiDmCDY8j1hDM2RP9tpZEIxGuHe5zjmDnxhFrAL6WyHeJsRpE12VynSPY2ThiAahSo1VEWEXANSJxHMFOk9di+Vsj81nDKiIqlRn3C8Hml+0HkSYzdq6Qf2IxK/490XlmCHV2WziiEa9tW+BV802wvBEroLKrm2I3gXkFEV2R1cbzULBRL1ZAZVcc0dsBLAfRZEs7k0eCjWqxqtRolQLsBGGS1X05A8bbDHooHCx71uqumIVidQfMZAw8L7OCjcz8odV9GUQhSCusOMRuqztiFqM6Y+kE1E5PXOm5B4xlAF1iVT+YcQzA+mJ4drUEpyWs6kc2yAuxdALqR8Vx5didFgj2OQNbu9izuT04rSuL7VpGXomlE1A/Ku6m4/eDeSkRjTetIUaCiR6jor61If/046a1Y0NyUqx/2Bv98ovzvO+LxqlQO0tKKLFQumAMDeBnGIUrw8FpQuO7SrXzrw4Ep30sq2vZIqfEGvhymIF2Yq4PBcv/VTRuhdpZMhY91SB6AMA4wXDhPubaF4LlR0SCzN0bHdfXh+XEfD8Dxxi0fgw8T+bK2CwnxBputYFMwebujY5L9vIiQ4Ixv5ZUXIsPLCj9rUgfUln0fgJqBveBmT/MFcFsLZZf7fh7QFsNwoyRPstAu0bKMtF/WCAzwZjxeyhKXXhBaUikzYDa6TlFiYXEqCPChOHbtL9gthTL1xqtBGO1odUGzC/C5WoIzS99TbQfqdtRDTHuB6HkzGbwB1JoVWh+aavQLDqzUrUn9k/E3ECgyzO7tF+wkxPKnmj/DvUZ7oMJ2EosIaEGw/wiKUrd/gVlUdFQ/tDh8Rx3VRPjfoD/AlLWfD6+9HGhf0xmqmqJ+gm0nghXCnWQ+Y9MWNs13vtLuwhmC7GqWmI3EPMqIpTJjMsAg/G8otAaWYIVdU882RK8tFsojhqZAaJtALyifToDGwlmqVhmCTUY2YIZpbK14xqFtUYCKkxtyAaCZV8sZqWqtWNuNoQ6q+mUYEnwCtHpgEyYrUamukHNIFRlq00AlgqWPbGYFX9L7CYGr8z6eqiz+gINhGf7mNeZKZhP7byMKLEejJtBFr7wTwkWXuB9OlvLdUwXq389VOxGWwg1GJMEm7XnyCUeLb4cTHeD4JEVVxjGESjUIPwkmwam/i/ytcTuiCP6NgjP2E4qAKks8j03sKzi0HtFkoP3AZyUG1MQwlQwP+tvib3pb40FwWzav79pgfvXGmlJAGxWGyJw/5/n+pinhYLlt7Z/Z1JcVuyD86ceDQW81QlX0WQA28As9BRpBqyZe7cy/VZYcYjdJcejNxNjFYi+anZ76cCMA4pCK7P1hNh/a+xZCuZ7QFScjTaHhHGEQWvCgdIWs2+FWRu8Vxxi93nHYj8g8Aoiuixb7Z6BpPd5Rpm158glBVp8NTH9IKtjrywKpZP16YaA2uk5hcTt2RSMmSNEWBkKlL+QjfZGwqd2XgbqWW66YBYIpWPZBGmWBOvUQKvbFpTuBZHxsR4z+Vo65gJaAxH9nlhbvT949R9FO2eaYBYKpWP5Kx0z1qMz8A4x6kOBsl+LfrH+lshsZqwjovLT8bkPoF8orG2QJRgh0cDEtxDI+AYLGwilIyxW1bI3LiBO3unuwe59270njMaRsR6dwR8wKWtOXlT6c9GZZr8amQGgEUTfGqa9PoB+AfbUi64UBYA56utfZSgrMhbMRkLpCIs1p+7NiZzs+5gZJwFsTmjKppc2l540Gs+YYHwUoHVF7PmZ6PokQ+/zGAkGHgc8jVkVTLJQMw92nOf5i7aoiz07RTd9SBPr9E/4KIjqQo1lTwHGxzXpbHhg5uNMaBzDEx4VXXEwpzXm1TReR4RKw0FMEEwjWktMwTNeCUkW6nr18PmF5LpXAVcDdJHLjQv2zTN+9wEkiDV7eWSCW6P/O+svmN/QQFvbmr1PicQ/x4aHE2Bs/hyeHaL/s/qzAzUy0Q0ka8yZEqzXVbj24PypR0XDzVYjU12EVWC6EqB1MoUqIuVBMBYR0fn6z+0tVgoGjgHY3FU87uH2euOz2xVqZ8lY6r2XWRvnLqAm0V+8f8Dcs5oJtwkNmIeDuRtEjyWUwk0yBJPFLLXzwgLqWTxYKB1biDVzScfFhS7tk5E/yUc1Ula2NZY9IdqmCP2TlD0riHFn1iYpbSJYv1CJWmIsHLzUeiC2EGukjDUYZn5VUZR79zdmd8GdP3R4POKuWjDfa9lrlZRgKEpuyOYG1jnPvzlRS/RVjySUTk6KpcNAu0JUbbZg/Rsi+EFiWpzOl5oVGF1M2ElFya1mCtYvVLIOrN1FRGmv3shpsXQ08Pfamsp/LdqPwQTUj4rjOF4NwhKIb0I1B5MEm72n40sujZdmKpSODLGEB60FVKAwjM9FEmg9AKlizVI7L4zT8Vcge7OCZJhYAYMS3cVSJjVn7+n4kjuprUJSux0ED8i6FyuW18ci4CtVtZGbZMY8GJz2aRGP/zaIf9w/eWovmPkzBhp6ufDScLB8+cHgtE9F4vnVjkl+NfpTd1J7F4S77LBqVThj9XKv5ha8oyqMdZCctVITpg8H1I/+OU5/WsSsLTG1skwaMPNnINoeh7btlcD0z2TE9KuxBkBbaema+iEQ7kwBFYj/QkSTfUtjNwrHGYKW4KXdoUBZUxcKJwG0jJmzXk5Iz1BxaJeHA976V4JypEpFn2E3qQAJGUsaxMsAmFaTMzVD31Shdj4yFr33ZiODmZGhcgVh0+MJTcqadiKUVS3t+DsZsYajPTity+wMZm6Gyg2ExSryKNIePYiSS2TFGgkzBJMt1Ny9UXtOk6SBze7N5K9cHvtaNlscKBgD9QAynr+RLZT+lJfsxUsicazEFk+FOkQgReMlAO6SEjADUmOwhrl7ozv6+vBjAhZjxNpYcsdQfrVjElOyHpz8PohczNwhGtMq7PFUOAACbptVd8Syktn75nlPhAPeBpcb58xgsjPUHLXj676WyFNA8h0C3Qoil0g8OyCcseIJjQvlfg2egmRPLfozhmEqayLTT40p/K/2emPrtVKvNM7IYMzcB2BLHNouGRlqjtrxdSZtDbO2gECK9TsQ5GGrwbsOMd/lf/Cw0FSAQphfcirxgb8muqKivtPwy2c9g2nFrq8kznd9ORwsb5SRofwt0WcZ2hEAQTvOQ4liqzHWFxAVw+VaDGCl4RAgDYQLAawrOZWorqqNbjlZ7HnYaAZr833zz0b7olOpvnGVi5IrmbUFAEZVhhqM7cZYA1hUUW+8UAfjdMELIlyoAOvHdve876uNLPPXHx4jp4vpUam+cZVPjTzvouQbGKUZajD2/QUJY0u6/7xQctCLCLSRTykf+GqjNWYLVtkama4LRURzzGzLbthXLAAAVQcCLP0JiYjGE9DE3a73fTXRpbIFSwn1oovpP/NNKB1hsXq517QNkgT8zalJsVuMXTvyLhYCJhChmbtd71fVRB4MPPCR0JLlQULNEomV69h5jAUAIEIdwBkPcweOsUZsA5igEG2Oe46/56uNVGcqmE+NXesIdSa2zlgAQMDX/MuiN2R+naF9dxMJtCXuOf5eVW3kRyN92PdcpNSnRn9DxL8xRyiBQiYWY/uMBQCsUX3G12SQsYZgIjHVjfipJM0b6nwfeYycqZkkVkzsrzy47cS4MuEzFW2fsQCACFf6ayOzM7rGWMYaEIBtUVxjJIglzIalhEq4iiaHAt5qGaW7Ld9MkQHLAKRdOI3BCol850w2f2KWgL6R1lUkfSNtDn15dF1lTWS61b0YFQzKUGbszrbP0uQ0UIjqAGQ8kHdIwUgw8RO9rqI1Zm/1t83S5HQgYJ5vaXRKWh9msScqAufsE9lZMBIMfozhmRIOlP8oG/UjhDNWkUchTmZvnEuEFQBuH/mDLFSViK3c7SmLVIYCCjeGA+L1ujIhh8ZY/TDx9321ndaU884RGNwHxpN6hpJRBC5TcmqMBQD9tax66gDcY3Vf7AaD+4jpaQW8fn+wXLjorgg5NcY6Dd09pyby18N+JI/GWHqGUpivCAW9d4hUcq5QO0v6j6sRw9KMxcyvEtHfGrq2/yDwpZK7lHMwqFVh7YeiGep0zdeepe4TsSkwsFtpIMJiuQqSDM3oOJdeAjMNV/J6GO65vvbwuleahl4mTIKvOqS+KjGRcLDsJyLX61Wq43xsGYEukfXMIixWstdFbpfhp0JmDdXkwn8YuLakiF0LAWwcMrAz8z4sA4UCyzm4YSBWf3kU3lz+KoDnDV083E6ePBpjZUJA7fT4WyOL4nTsXTDtkHUayGBssUtHY205s4FbD+Fif23s7qH/LvM1XANJcx7LXPmIhDdw6ATUTk+VGr2rGz3vmCmUjtUZCwDQ1nz1W0T8nKGLmWuNLASUhEnt8lFmLC5mj/Aar4FCKYSfZuvENdvMYyUVpc6l8TxkKjthkq8mOj/cjFZzepZN+CgzNRVjwm7Rkzb009W60bNCIbos2+dx2WY91oGNZX8A42cGL18++Ae5tR6rP0MV8YTJ4aB3h4hUFYfYbUWGGowtboU6SfY8ZOT8ZCIq99VEvmtGn8xFrlC+lsitY49F37JSKB1bLU0+sGnax0y009DFRGfsmhZcmmzydIM5QhHoKbucu227VzoFSlFz6oi6jCCgwl/TcXqi1YbTDf3F3WiZDKF0xh6P/Ytsobp6k8K/uy2mGwayd+MVfyKiLUauZSRPj7WyM92QXqyUUF0onBQKlDXJEGoAYyXGAgCUFLiEf3dbjbF0utG3FWzkXRX5014ImAUGCyV6BF4uYZunwoG80jT9M42wKdPriECkoA6w9qkwn4XSsdXgfSC9SWWHkYKzDL5l5pKOi60YvMsWqnJP5DqR663EjhX9AAAvbS496a+NNgGZZS4CuT1K8j6w2I67DAfvJxjY3oXCLe0BwezETP49HQFo/BAnuRdAmVA8i7B42cwIFCcf5VNKbaaF/gm0mAlPizSdzrIZ7l+zVO92Y4foaVlgpqqWqF9pjdUD8IIAMHK2uK1tXukMRah++ilfTbQZQHNGFxLGEjBi7QVR2gLe7cJBBgpFZOvTyjLBtmMsna4x43Zacf6N6euxmKlKjczxt8ZeV4ieh82PwMsUWz4VDqS9flKciJrMbGNITHxXOJqF0smJ2g19p0p2usd0LQEw0dSGBmJCxvK3xGaCtQaDS7FzCltOkA7mhZ1TejQNq63uh1H8LbGZfjXyKsAH80EqIAduhTptm7y7Ac7eXjkJt8J8FEonJ26FX6BhNRT8MittCdwKv7jlgb81GnbqGyEnboU6oU3lvwJwxOp+nAu/GpmRrxlqMMJi7d9w1ScAtknoS3owVmSlnQxuhX41MsPXEj0EovZ8F0pHSsYKNXmrGZ7LATwpI96wbTV79zFzxOx20qFSjZbpQhFQIb+FPC5uqxNumvZhqMl7h8baVBjcJ5guRMbP2EmbNMZYCmGuOUKd7sSInzCybe7cwexT3HYwbc1XvxVq8s5lpmvA+HfZ8QEg1FT+AjN+Z0ZsO0GgEc8SIqHt3insWNz2XISby34H4Fr/0piPFW0dgUqlNqCgFoxDUmMOwA47oZnY8CFV6TWQw8VtQ5vKwuEmrxca3wzmd2XFDTd6280Ua1RU9DsXjAQzdplZ3DZL0w3EoU3lv/p8jPcbGnghwFJ+kaRLOWs/ocMwpIRieKaEg96FZtYizeo8Vns99bU1le8qSkyYrAErQBCqTXBgY+lvGSad9J4jBwikxSChslE60pL1WC3bLu0GsEFGLGZtMaB0ShnEnhF4FJQxYiQYeBzwNGa7DmnOf3mpgiK7pQfO4Yx1RnHbLGWowdh6BWm6JLXCepeSuAOAR1rQHMxYo6q4rR04sGnax8ySs1YOZSyZxW1lMSoyFgAo7oJ1WrL3h+lMKqZFjmQsjXHABV5idYYaTE58eemQehn+qLSAOZKx2oLe3XbIUIMZNWIBgMIwVPPBQT6jSqz9zeX/y+CtMmJJOWAyjxlVYgFAV/EFK2S8OsqVOu92ZdSJ1V4/Kc6k3G51P4RgaABUjd1+q7tilFEnFgCEm8r+TWM8YHU/MiYlFEGZGgp4bzwQ/OabVnfJKKNSLABoa/ZuJ8ZMZv7YyPVZHWMxJxn8c12o/cHSt7PWtkmMWrEAYH+z92V3gq5g4BGr+zIkKaEA15RwoPy20SCUzqiZID0X+7Z7TwC4r6rm9UcUUp5BmlvaTR28MxIAngRcjeFA6XumtWMho14snbbmq98CUF5VE3mQQA1EOG+4z5tyK0wJ1edS1r4wv/S/pce3EaP6VjgUbc3lW3rdhVP6b0HnRmbGYuY4gx7ucymTQ0Hv3aNdKiCPMtZADm6YehTAbf6ajl0MbReROVXzmDkOUnYrhe4N+//xqk/MaMOu5KVYOqHm0tcAeH01sfuIeCOAEv3vhG6FjC4mPKoUFmzNN6F08u5WOBTh5rKfsJu+AcbL+s8M3QoZXQw0J+C5PBzw1uarVECeZ6yBhNeX/Q+Amb6lsRuhaM2ZZCxm/oyg7EigYMfBwLRPTeymQ67jr43ePOJnWmMP+NVYw/Xq4fOz0ScHBwcHBwcHBwcHBwcHBwcHBwcHBwcHBwcHBwcHB4e85P8BIIruaheK7r0AAAAASUVORK5CYII=)"
      ],
      "metadata": {
        "id": "Q8EwK9DbA69G"
      }
    },
    {
      "cell_type": "markdown",
      "source": [
        "## NumPy \n",
        "NumPy stands for **Num**erical **Py**thon\n",
        "and it is a core library for scientific computing\n",
        "\n",
        "It consists of multi dimesnional array orbjects and a collection of routines for processin those arrays\n",
        "\n",
        "Note: unlike the arrays of Java and C++ the mumpy arrays have multiple dimensions."
      ],
      "metadata": {
        "id": "8O1wzDjxlyM8"
      }
    },
    {
      "cell_type": "code",
      "source": [
        "# importing library\n",
        "\n",
        "import numpy as np"
      ],
      "metadata": {
        "id": "g1rMNP4Alwm7"
      },
      "execution_count": null,
      "outputs": []
    },
    {
      "cell_type": "markdown",
      "source": [
        "## Single-dimensional Array"
      ],
      "metadata": {
        "id": "r8K5lZq-Gyd0"
      }
    },
    {
      "cell_type": "code",
      "source": [
        "# we have passed a list \n",
        "# it will have 1 row and 4 columns\n",
        "\n",
        "n1 = np.array([10,20,30,40])\n",
        "n1"
      ],
      "metadata": {
        "colab": {
          "base_uri": "https://localhost:8080/"
        },
        "id": "K7DGJOtlGxlN",
        "outputId": "d401eacc-3e60-4034-cadb-385fb41939f1"
      },
      "execution_count": null,
      "outputs": [
        {
          "output_type": "execute_result",
          "data": {
            "text/plain": [
              "array([10, 20, 30, 40])"
            ]
          },
          "metadata": {},
          "execution_count": 19
        }
      ]
    },
    {
      "cell_type": "markdown",
      "source": [
        "##Multi-dimensional Array"
      ],
      "metadata": {
        "id": "MxaCUOh5HCcC"
      }
    },
    {
      "cell_type": "code",
      "source": [
        "# we have used list of lists [[10,20,30,40],[40,30,20,10]]  \n",
        "# it will have 2 rows and 4 columns\n",
        "\n",
        "n2 = np.array([[10,20,30,40],[40,30,20,10]])\n",
        "n2"
      ],
      "metadata": {
        "colab": {
          "base_uri": "https://localhost:8080/"
        },
        "id": "HK5UzM23HK9l",
        "outputId": "cc701bd1-8a3e-424c-c182-2c135646db30"
      },
      "execution_count": null,
      "outputs": [
        {
          "output_type": "execute_result",
          "data": {
            "text/plain": [
              "array([[10, 20, 30, 40],\n",
              "       [40, 30, 20, 10]])"
            ]
          },
          "metadata": {},
          "execution_count": 20
        }
      ]
    },
    {
      "cell_type": "code",
      "source": [
        "l1 = [1,2,3,4]\n",
        "\n",
        "# creating a single dim array\n",
        "n1 = np.array(l1)\n",
        "print(n1)\n",
        "type(n1)"
      ],
      "metadata": {
        "colab": {
          "base_uri": "https://localhost:8080/"
        },
        "id": "7pgfWonEIS99",
        "outputId": "e9f2ddff-4302-4496-c01e-19e87eec379c"
      },
      "execution_count": null,
      "outputs": [
        {
          "output_type": "stream",
          "name": "stdout",
          "text": [
            "[1 2 3 4]\n"
          ]
        },
        {
          "output_type": "execute_result",
          "data": {
            "text/plain": [
              "numpy.ndarray"
            ]
          },
          "metadata": {},
          "execution_count": 21
        }
      ]
    },
    {
      "cell_type": "code",
      "source": [
        "# single dim array\n",
        "n1"
      ],
      "metadata": {
        "colab": {
          "base_uri": "https://localhost:8080/"
        },
        "id": "J4tgKo8WJXwa",
        "outputId": "2eee4fa9-22ec-456e-ea59-5672df995d64"
      },
      "execution_count": null,
      "outputs": [
        {
          "output_type": "execute_result",
          "data": {
            "text/plain": [
              "array([1, 2, 3, 4])"
            ]
          },
          "metadata": {},
          "execution_count": 22
        }
      ]
    },
    {
      "cell_type": "code",
      "source": [
        "l1 = [1,989,3,45,5,6,78,9]\n",
        "l2 = sorted(l1)\n",
        "\n",
        "# creating a multi-dimensional array\n",
        "\n",
        "n2 = np.array([l1,l2])\n",
        "print(n2)\n",
        "print(type(n2))"
      ],
      "metadata": {
        "colab": {
          "base_uri": "https://localhost:8080/"
        },
        "id": "l5sEDELxIy6W",
        "outputId": "f36c3a4c-2219-4502-c6aa-10263d069749"
      },
      "execution_count": null,
      "outputs": [
        {
          "output_type": "stream",
          "name": "stdout",
          "text": [
            "[[  1 989   3  45   5   6  78   9]\n",
            " [  1   3   5   6   9  45  78 989]]\n",
            "<class 'numpy.ndarray'>\n"
          ]
        }
      ]
    },
    {
      "cell_type": "code",
      "source": [
        "# multi-dim array\n",
        "n2"
      ],
      "metadata": {
        "colab": {
          "base_uri": "https://localhost:8080/"
        },
        "id": "-tMPhrJOJelj",
        "outputId": "9711e785-5754-463e-f89c-49dad8254c04"
      },
      "execution_count": null,
      "outputs": [
        {
          "output_type": "execute_result",
          "data": {
            "text/plain": [
              "array([[  1, 989,   3,  45,   5,   6,  78,   9],\n",
              "       [  1,   3,   5,   6,   9,  45,  78, 989]])"
            ]
          },
          "metadata": {},
          "execution_count": 24
        }
      ]
    },
    {
      "cell_type": "markdown",
      "source": [
        "##<div align = 'center'>**How to initialize NumPy array with Zeroes?**</div>\n",
        "\n",
        "# <div align = 'center'> **np.zeros()** method </div>\n"
      ],
      "metadata": {
        "id": "CE6E3S0kJoav"
      }
    },
    {
      "cell_type": "code",
      "source": [
        "## initializing NumPy array with zeroes\n",
        "# two attributes taken are (rows, colums)\n",
        "# in this case we have taken1 row and 2 columns and initialize them with zeros\n",
        "\n",
        "n3 = np.zeros((1,2))\n",
        "n3"
      ],
      "metadata": {
        "colab": {
          "base_uri": "https://localhost:8080/"
        },
        "id": "e18Sxy0dJilR",
        "outputId": "f3530c73-f27c-4ef7-ac53-337832cb426f"
      },
      "execution_count": null,
      "outputs": [
        {
          "output_type": "execute_result",
          "data": {
            "text/plain": [
              "array([[0., 0.]])"
            ]
          },
          "metadata": {},
          "execution_count": 25
        }
      ]
    },
    {
      "cell_type": "code",
      "source": [
        "## initializing NumPy array with zeroes\n",
        "# in this case 5 rows and 5 columns are initialized with zeros\n",
        "# it is equivalent of creating a 5 * 5 matix will zeroes\n",
        "\n",
        "n4 = np.zeros((5,5))\n",
        "n4"
      ],
      "metadata": {
        "colab": {
          "base_uri": "https://localhost:8080/"
        },
        "id": "z3wkmvKEVlD4",
        "outputId": "df3b2ba6-2258-42ac-f06c-1962ceb7b988"
      },
      "execution_count": null,
      "outputs": [
        {
          "output_type": "execute_result",
          "data": {
            "text/plain": [
              "array([[0., 0., 0., 0., 0.],\n",
              "       [0., 0., 0., 0., 0.],\n",
              "       [0., 0., 0., 0., 0.],\n",
              "       [0., 0., 0., 0., 0.],\n",
              "       [0., 0., 0., 0., 0.]])"
            ]
          },
          "metadata": {},
          "execution_count": 26
        }
      ]
    },
    {
      "cell_type": "code",
      "source": [
        "print(type(n3))\n",
        "print(type(n4))"
      ],
      "metadata": {
        "colab": {
          "base_uri": "https://localhost:8080/"
        },
        "id": "3ilO4MB2WN9w",
        "outputId": "04ce7497-b686-448c-f66d-3cd71225dd98"
      },
      "execution_count": null,
      "outputs": [
        {
          "output_type": "stream",
          "name": "stdout",
          "text": [
            "<class 'numpy.ndarray'>\n",
            "<class 'numpy.ndarray'>\n"
          ]
        }
      ]
    },
    {
      "cell_type": "code",
      "source": [
        "# create a 10 * 10 numpy array \n",
        "\n",
        "n5 = np.zeros((10,10))\n",
        "n5"
      ],
      "metadata": {
        "colab": {
          "base_uri": "https://localhost:8080/"
        },
        "id": "kCi-UVgyWpkw",
        "outputId": "232941d1-5911-4b2d-ff26-bec6c5fdccc6"
      },
      "execution_count": null,
      "outputs": [
        {
          "output_type": "execute_result",
          "data": {
            "text/plain": [
              "array([[0., 0., 0., 0., 0., 0., 0., 0., 0., 0.],\n",
              "       [0., 0., 0., 0., 0., 0., 0., 0., 0., 0.],\n",
              "       [0., 0., 0., 0., 0., 0., 0., 0., 0., 0.],\n",
              "       [0., 0., 0., 0., 0., 0., 0., 0., 0., 0.],\n",
              "       [0., 0., 0., 0., 0., 0., 0., 0., 0., 0.],\n",
              "       [0., 0., 0., 0., 0., 0., 0., 0., 0., 0.],\n",
              "       [0., 0., 0., 0., 0., 0., 0., 0., 0., 0.],\n",
              "       [0., 0., 0., 0., 0., 0., 0., 0., 0., 0.],\n",
              "       [0., 0., 0., 0., 0., 0., 0., 0., 0., 0.],\n",
              "       [0., 0., 0., 0., 0., 0., 0., 0., 0., 0.]])"
            ]
          },
          "metadata": {},
          "execution_count": 28
        }
      ]
    },
    {
      "cell_type": "markdown",
      "source": [
        "##<div align = 'center'>**How to initialize NumPy array with a Specific number?**</div>\n",
        "\n",
        "# <div align = 'center'> **np.full()** method </div>"
      ],
      "metadata": {
        "id": "MGzU_UNIXZ7x"
      }
    },
    {
      "cell_type": "code",
      "source": [
        "# create a 2 * 2 array with all numbers as 10\n",
        "\n",
        "n6 = np.full((2,2),10)\n",
        "n6"
      ],
      "metadata": {
        "colab": {
          "base_uri": "https://localhost:8080/"
        },
        "id": "JmiddEmMYPEh",
        "outputId": "4a3d9fd0-b44e-4060-b1e2-2702bcbc0140"
      },
      "execution_count": null,
      "outputs": [
        {
          "output_type": "execute_result",
          "data": {
            "text/plain": [
              "array([[10, 10],\n",
              "       [10, 10]])"
            ]
          },
          "metadata": {},
          "execution_count": 29
        }
      ]
    },
    {
      "cell_type": "code",
      "source": [
        "# create a 5 * 12 array with all numbers as 7\n",
        "\n",
        "n7 = np.full((5,12),7)\n",
        "n7"
      ],
      "metadata": {
        "colab": {
          "base_uri": "https://localhost:8080/"
        },
        "id": "nl9C5A_uW5t4",
        "outputId": "ad711469-c0ae-4371-9c0b-733f856c56c3"
      },
      "execution_count": null,
      "outputs": [
        {
          "output_type": "execute_result",
          "data": {
            "text/plain": [
              "array([[7, 7, 7, 7, 7, 7, 7, 7, 7, 7, 7, 7],\n",
              "       [7, 7, 7, 7, 7, 7, 7, 7, 7, 7, 7, 7],\n",
              "       [7, 7, 7, 7, 7, 7, 7, 7, 7, 7, 7, 7],\n",
              "       [7, 7, 7, 7, 7, 7, 7, 7, 7, 7, 7, 7],\n",
              "       [7, 7, 7, 7, 7, 7, 7, 7, 7, 7, 7, 7]])"
            ]
          },
          "metadata": {},
          "execution_count": 30
        }
      ]
    },
    {
      "cell_type": "markdown",
      "source": [
        "##<div align = 'center'>**How to initialize NumPy array within a Range?**</div>\n",
        "\n",
        "# <div align = 'center'> **np.arange()** method </div>"
      ],
      "metadata": {
        "id": "5-Qp17UqYyhm"
      }
    },
    {
      "cell_type": "code",
      "source": [
        "## create a numpy array that contains all values in the range 1 to 100 \n",
        "\n",
        "n8 = np.arange(1,101)\n",
        "n8"
      ],
      "metadata": {
        "colab": {
          "base_uri": "https://localhost:8080/"
        },
        "id": "XJuBQkLhYqIm",
        "outputId": "41cc450c-0ce8-48a7-c7d3-0a4dda9fa26a"
      },
      "execution_count": null,
      "outputs": [
        {
          "output_type": "execute_result",
          "data": {
            "text/plain": [
              "array([  1,   2,   3,   4,   5,   6,   7,   8,   9,  10,  11,  12,  13,\n",
              "        14,  15,  16,  17,  18,  19,  20,  21,  22,  23,  24,  25,  26,\n",
              "        27,  28,  29,  30,  31,  32,  33,  34,  35,  36,  37,  38,  39,\n",
              "        40,  41,  42,  43,  44,  45,  46,  47,  48,  49,  50,  51,  52,\n",
              "        53,  54,  55,  56,  57,  58,  59,  60,  61,  62,  63,  64,  65,\n",
              "        66,  67,  68,  69,  70,  71,  72,  73,  74,  75,  76,  77,  78,\n",
              "        79,  80,  81,  82,  83,  84,  85,  86,  87,  88,  89,  90,  91,\n",
              "        92,  93,  94,  95,  96,  97,  98,  99, 100])"
            ]
          },
          "metadata": {},
          "execution_count": 31
        }
      ]
    },
    {
      "cell_type": "code",
      "source": [
        "# if we want the numpy array that has values of specific step size \n",
        "# like 10 15 20 25 30 35...\n",
        "\n",
        "# here 5 denotes the step size\n",
        "n9 = np.arange(1,101,5)\n",
        "n9"
      ],
      "metadata": {
        "colab": {
          "base_uri": "https://localhost:8080/"
        },
        "id": "9WldBrueZVG-",
        "outputId": "8158fcc2-a2e9-4404-d399-ae5594306495"
      },
      "execution_count": null,
      "outputs": [
        {
          "output_type": "execute_result",
          "data": {
            "text/plain": [
              "array([ 1,  6, 11, 16, 21, 26, 31, 36, 41, 46, 51, 56, 61, 66, 71, 76, 81,\n",
              "       86, 91, 96])"
            ]
          },
          "metadata": {},
          "execution_count": 32
        }
      ]
    },
    {
      "cell_type": "code",
      "source": [
        "# create a numpy array which has values from 50 to 5000 with step size 25\n",
        "n10 = np.arange(50,5001,25)\n",
        "n10"
      ],
      "metadata": {
        "colab": {
          "base_uri": "https://localhost:8080/"
        },
        "id": "s49HaBKMEO-y",
        "outputId": "a6009e2f-e738-451e-d650-831833c26fbd"
      },
      "execution_count": null,
      "outputs": [
        {
          "output_type": "execute_result",
          "data": {
            "text/plain": [
              "array([  50,   75,  100,  125,  150,  175,  200,  225,  250,  275,  300,\n",
              "        325,  350,  375,  400,  425,  450,  475,  500,  525,  550,  575,\n",
              "        600,  625,  650,  675,  700,  725,  750,  775,  800,  825,  850,\n",
              "        875,  900,  925,  950,  975, 1000, 1025, 1050, 1075, 1100, 1125,\n",
              "       1150, 1175, 1200, 1225, 1250, 1275, 1300, 1325, 1350, 1375, 1400,\n",
              "       1425, 1450, 1475, 1500, 1525, 1550, 1575, 1600, 1625, 1650, 1675,\n",
              "       1700, 1725, 1750, 1775, 1800, 1825, 1850, 1875, 1900, 1925, 1950,\n",
              "       1975, 2000, 2025, 2050, 2075, 2100, 2125, 2150, 2175, 2200, 2225,\n",
              "       2250, 2275, 2300, 2325, 2350, 2375, 2400, 2425, 2450, 2475, 2500,\n",
              "       2525, 2550, 2575, 2600, 2625, 2650, 2675, 2700, 2725, 2750, 2775,\n",
              "       2800, 2825, 2850, 2875, 2900, 2925, 2950, 2975, 3000, 3025, 3050,\n",
              "       3075, 3100, 3125, 3150, 3175, 3200, 3225, 3250, 3275, 3300, 3325,\n",
              "       3350, 3375, 3400, 3425, 3450, 3475, 3500, 3525, 3550, 3575, 3600,\n",
              "       3625, 3650, 3675, 3700, 3725, 3750, 3775, 3800, 3825, 3850, 3875,\n",
              "       3900, 3925, 3950, 3975, 4000, 4025, 4050, 4075, 4100, 4125, 4150,\n",
              "       4175, 4200, 4225, 4250, 4275, 4300, 4325, 4350, 4375, 4400, 4425,\n",
              "       4450, 4475, 4500, 4525, 4550, 4575, 4600, 4625, 4650, 4675, 4700,\n",
              "       4725, 4750, 4775, 4800, 4825, 4850, 4875, 4900, 4925, 4950, 4975,\n",
              "       5000])"
            ]
          },
          "metadata": {},
          "execution_count": 34
        }
      ]
    },
    {
      "cell_type": "code",
      "source": [
        "print(len(n10))"
      ],
      "metadata": {
        "colab": {
          "base_uri": "https://localhost:8080/"
        },
        "id": "oKEybvWsEV4g",
        "outputId": "5d571ad1-239b-4de6-e062-6aa6a3ae4e8b"
      },
      "execution_count": null,
      "outputs": [
        {
          "output_type": "stream",
          "name": "stdout",
          "text": [
            "199\n"
          ]
        }
      ]
    },
    {
      "cell_type": "markdown",
      "source": [
        "# <div align = 'center'> **Initializing NumPy array with random numbers**\n",
        "# <div align = 'center'>Note:  NumPy has a sub module named **random**</div>\n",
        "\n"
      ],
      "metadata": {
        "id": "IflHr42REy1W"
      }
    },
    {
      "cell_type": "code",
      "source": [
        "# create a numpy array whith 5 random numbers between 1 and 100\n",
        "\n",
        "# NumPy has a module named random. It is same as the random library\n",
        "\n",
        "n11 = np.random.randint(1,100,5)\n",
        "n11"
      ],
      "metadata": {
        "colab": {
          "base_uri": "https://localhost:8080/"
        },
        "id": "PRSWukHLNDFM",
        "outputId": "ac193fe4-adc6-4196-9560-17fbe2f6b3c0"
      },
      "execution_count": null,
      "outputs": [
        {
          "output_type": "execute_result",
          "data": {
            "text/plain": [
              "array([77, 11, 38,  2, 28])"
            ]
          },
          "metadata": {},
          "execution_count": 53
        }
      ]
    },
    {
      "cell_type": "code",
      "source": [
        "# Create a NumPy array which has 12 random numbers between 1 and 100 \n",
        "\n",
        "\n",
        "n12 = np.random.randint(1,100,12)\n",
        "n12"
      ],
      "metadata": {
        "colab": {
          "base_uri": "https://localhost:8080/"
        },
        "id": "f3FGx4L-FBNz",
        "outputId": "5b6a4a9c-0a75-4fe8-eb7b-366592b8fc0f"
      },
      "execution_count": null,
      "outputs": [
        {
          "output_type": "execute_result",
          "data": {
            "text/plain": [
              "array([64, 17, 82, 16,  9, 51, 64, 89, 60, 15, 40, 45])"
            ]
          },
          "metadata": {},
          "execution_count": 49
        }
      ]
    },
    {
      "cell_type": "markdown",
      "source": [
        "# <div align = 'center'> **NumPy-Shape**\n",
        "## <div align = 'center'>  Checking the shape of NumPy arrays \n",
        "\n",
        "### <div align = 'center'>shape ----------> (Rows,col)"
      ],
      "metadata": {
        "id": "mzWX7uG8N14d"
      }
    },
    {
      "cell_type": "code",
      "source": [
        "n13 = np.array([[1,2,3],[4,5,6]])\n",
        "n13.shape\n",
        "# Here shape is (2,3) which implies that there are 2 rows and 3 columns "
      ],
      "metadata": {
        "colab": {
          "base_uri": "https://localhost:8080/"
        },
        "id": "4TRp-TR1LwhA",
        "outputId": "d66b24f6-19f0-4885-a7ca-7037e398fca2"
      },
      "execution_count": null,
      "outputs": [
        {
          "output_type": "execute_result",
          "data": {
            "text/plain": [
              "(2, 3)"
            ]
          },
          "metadata": {},
          "execution_count": 55
        }
      ]
    },
    {
      "cell_type": "markdown",
      "source": [
        "## <div align = 'center'>  **Changing the shape of NumPy arrays**"
      ],
      "metadata": {
        "id": "00MekevZPM1C"
      }
    },
    {
      "cell_type": "code",
      "source": [
        "n13.shape = (3,2)\n",
        "n13"
      ],
      "metadata": {
        "colab": {
          "base_uri": "https://localhost:8080/"
        },
        "id": "S0RxeKF2OhOK",
        "outputId": "0b9c538c-048d-46a8-9345-49b0b09031ab"
      },
      "execution_count": null,
      "outputs": [
        {
          "output_type": "execute_result",
          "data": {
            "text/plain": [
              "array([[1, 2],\n",
              "       [3, 4],\n",
              "       [5, 6]])"
            ]
          },
          "metadata": {},
          "execution_count": 56
        }
      ]
    },
    {
      "cell_type": "code",
      "source": [
        "n13.shape = (-1,1)\n",
        "n13"
      ],
      "metadata": {
        "colab": {
          "base_uri": "https://localhost:8080/"
        },
        "id": "OgbMR9zrPXnh",
        "outputId": "2ec72be2-02f8-430f-a551-5145ff908807"
      },
      "execution_count": null,
      "outputs": [
        {
          "output_type": "execute_result",
          "data": {
            "text/plain": [
              "array([[1],\n",
              "       [2],\n",
              "       [3],\n",
              "       [4],\n",
              "       [5],\n",
              "       [6]])"
            ]
          },
          "metadata": {},
          "execution_count": 64
        }
      ]
    },
    {
      "cell_type": "code",
      "source": [],
      "metadata": {
        "id": "7qJBQAjePe-I"
      },
      "execution_count": null,
      "outputs": []
    }
  ]
}